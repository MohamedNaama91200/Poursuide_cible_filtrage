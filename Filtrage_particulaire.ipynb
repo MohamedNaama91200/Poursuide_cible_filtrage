{
  "nbformat": 4,
  "nbformat_minor": 0,
  "metadata": {
    "colab": {
      "provenance": []
    },
    "kernelspec": {
      "name": "python3",
      "display_name": "Python 3"
    },
    "language_info": {
      "name": "python"
    }
  },
  "cells": [
    {
      "cell_type": "code",
      "execution_count": null,
      "metadata": {
        "id": "SqQi90oP3a68"
      },
      "outputs": [],
      "source": [
        "import numpy as np\n",
        "import matplotlib.pyplot as plt\n",
        "T = 50\n",
        "N = 50\n",
        "R = 1\n",
        "Q = 10\n",
        "x_init = np.random.normal(0, 1)\n",
        "def cree_trajectoire(Q,T,x_init) :\n",
        "    vecteur_x = np.zeros((1,T))\n",
        "    vecteur_x[:,0] = x_init.reshape(1,)\n",
        "    for j in range(1,T) :\n",
        "        U = np.random.normal(0, Q)\n",
        "        temp = 0.5*vecteur_x[:,j-1] + 25*(vecteur[j-1]/(1+(vecteur[j-1]**2+1)))+8*np.cos()\n",
        "        vecteur_x[:,j] = temp + U\n",
        "        \n",
        "    return vecteur_x"
      ]
    },
    {
      "cell_type": "code",
      "source": [
        "import numpy as np\n",
        "\n",
        "T = 50\n",
        "N = 50\n",
        "R = 1\n",
        "Q = 10\n",
        "x_init = np.random.normal(0, 1)\n",
        "def cree_trajectoire(Q,T,x_init) :\n",
        "    vecteur_x = np.zeros((1,T))\n",
        "    vecteur_x[:,0] = x_init\n",
        "    for j in range(1,T) :\n",
        "        U = np.random.normal(0, Q)\n",
        "        temp = 0.5*vecteur_x[:,j-1] + 25*(vecteur_x[:,j-1]/(1 + vecteur_x[:,j-1]**2)) + 8*np.cos(1.2*(j))\n",
        "        vecteur_x[:,j] = temp + U\n",
        "        \n",
        "    return vecteur_x\n",
        "\n",
        "vecteur_x = cree_trajectoire(Q,T,x_init)\n",
        "\n",
        "def creer_observations(R,T,vecteur_x):\n",
        "    vecteur_y = np.zeros((1,T))\n",
        "    V = np.random.normal(0,R)\n",
        "    for i in range(0,T) :\n",
        "        V = np.random.normal(0,R)\n",
        "        vecteur_y[:,i] = vecteur_x[:,i]**2/20 + V\n",
        "    return vecteur_y\n",
        "\n",
        "vecteur_y = creer_observations(R,T,vecteur_x)"
      ],
      "metadata": {
        "id": "ehEciKe297v2"
      },
      "execution_count": null,
      "outputs": []
    },
    {
      "cell_type": "code",
      "source": [
        "# Q 5 \n",
        "from scipy.stats import norm\n",
        "\n",
        "\n",
        "\n",
        "def filtrage_particulaire(vecteur_y,R,Q,N) : \n",
        "    X = np.zeros((N,T))\n",
        "    X_est = np.zeros((1,T))\n",
        "    W = np.zeros((N,T))\n",
        "\n",
        "    X_t = np.random.randn(N,1)\n",
        "    w_t = norm.pdf(vecteur_y[0][0],(X_t**2)/20,R) # calcul (P(y_0|x_0^1 ), ... ,P(y_0|x_0^N))\n",
        "    w_t=w_t/(w_t.sum())\n",
        "    W[:,0] = w_t.flatten()\n",
        "    X[:,0] = X_t.T\n",
        "    X_est[0] = (W[:,0]*X[:,0]).sum()\n",
        "    for t in range(1,T) : \n",
        "        A = np.random.choice(range(N),N,p=w_t.flatten())\n",
        "        reech = X_t[A]\n",
        "        X_t = 0.5*reech + 25*reech/(1+ reech**2) + 8*np.cos(1.2*(t)) + np.random.normal(0, Q, (N,1))\n",
        "        w_t = norm.pdf(vecteur_y[0][t],X_t**2/20,R)\n",
        "        w_t = w_t/(w_t.sum())\n",
        "        #print(w_t)\n",
        "        W[:,t] = w_t.flatten()\n",
        "        X[:,t] = X_t.T\n",
        "        #X_est[:,t] = (W[:,t]*X[:,t]).sum()\n",
        "    X_est = (W*X).sum(0)\n",
        "    return X_est\n",
        "\n",
        "X_est=filtrage_particulaire(vecteur_y=vecteur_y,R=R,Q=Q,N=10000)\n",
        "X_est\n"
      ],
      "metadata": {
        "id": "ng17hCv7GZhv",
        "colab": {
          "base_uri": "https://localhost:8080/"
        },
        "outputId": "e40d3fd6-4eb3-4983-bcad-54d76a92aa89"
      },
      "execution_count": null,
      "outputs": [
        {
          "output_type": "execute_result",
          "data": {
            "text/plain": [
              "array([-9.30285612e-03,  1.38126979e+01,  5.27933233e+00, -2.27694375e+01,\n",
              "       -9.64049428e+00,  9.03163208e-02,  2.27758005e+00, -2.45468957e+00,\n",
              "       -4.06805922e+00, -4.07218857e+00,  7.96005700e-02,  5.07075901e+00,\n",
              "        1.58503476e+00, -5.38830356e+00, -1.11075429e+00,  1.27320177e+01,\n",
              "        1.55195318e+01,  2.15624164e+01,  6.92059888e-01, -5.57878726e+00,\n",
              "       -5.92721283e-01,  2.13934594e+00,  2.59525891e+00, -2.94903249e+00,\n",
              "       -1.01385052e+01, -1.15717953e+00,  1.42080508e+00,  6.25199474e-01,\n",
              "       -1.13395469e-01, -8.05256610e+00, -6.98155816e+00,  1.71832512e-02,\n",
              "        6.76757970e+00,  3.34732977e+00, -7.80263859e-03, -6.17256505e-01,\n",
              "        7.78243312e-01,  1.19172342e+01,  3.82191193e+00, -2.31081938e+01,\n",
              "       -2.89837299e+01, -2.23237660e+01, -8.90082768e+00, -4.45967192e+00,\n",
              "       -8.60106400e-01, -6.41384341e+00, -4.67304803e-01,  1.41248525e+01,\n",
              "        1.04190624e+01,  7.17670038e-01])"
            ]
          },
          "metadata": {},
          "execution_count": 5
        }
      ]
    }
  ]
}